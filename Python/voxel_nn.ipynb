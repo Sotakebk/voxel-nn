{
  "cells": [
    {
      "cell_type": "markdown",
      "metadata": {
        "id": "W-Idl6AynZs7"
      },
      "source": [
        "## Prepare environment"
      ]
    },
    {
      "cell_type": "code",
      "execution_count": null,
      "metadata": {
        "colab": {
          "base_uri": "https://localhost:8080/"
        },
        "id": "MpCuixrkmX5E",
        "outputId": "ae70a705-9ef5-4216-c1eb-0e6c8b39c720"
      },
      "outputs": [],
      "source": [
        "import os\n",
        "\n",
        "ORIGINAL_DIRECTORY = None\n",
        "\n",
        "def prepare_env():\n",
        "    global ORIGINAL_DIRECTORY\n",
        "    if ORIGINAL_DIRECTORY is None:\n",
        "        ORIGINAL_DIRECTORY = os.getcwd()\n",
        "    %cd {ORIGINAL_DIRECTORY}\n",
        "    running_locally = os.path.isfile('./python-code')\n",
        "    if not running_locally:\n",
        "        if not os.path.isdir('./voxel-nn'):\n",
        "            !git clone -b dev https://github.com/Sotakebk/voxel-nn.git\n",
        "        %cd ./voxel-nn/Python\n",
        "        !git pull\n",
        "    \n",
        "    %pip install -r ./requirements.txt\n",
        "    %load_ext autoreload\n",
        "    %autoreload 2\n",
        "prepare_env()"
      ]
    },
    {
      "cell_type": "code",
      "execution_count": null,
      "metadata": {},
      "outputs": [],
      "source": [
        "os.environ['TF_CPP_MIN_LOG_LEVEL'] = '3'  # or any {'0', '1', '2'}\n",
        "\n",
        "import tensorflow as tf\n",
        "from voxelnn import tensorflow_tools as tft\n",
        "import os\n",
        "\n",
        "if tft.maybe_use_tpu() is False:\n",
        "    gpu = tf.config.list_physical_devices('GPU')\n",
        "    print(gpu)"
      ]
    },
    {
      "cell_type": "markdown",
      "metadata": {
        "id": "bAO1c4SanfmG"
      },
      "source": [
        "## Prepare dataset for further operations"
      ]
    },
    {
      "cell_type": "code",
      "execution_count": null,
      "metadata": {
        "id": "_32krO8KqCzX"
      },
      "outputs": [],
      "source": [
        "from voxelnn import dataset_manipulation as dm\n",
        "\n",
        "shared_model_path = 'simple-terrain-2d-16x16'\n",
        "\n",
        "files_to_load = [\n",
        "    'simple-terrain-2d-16x16-dataset.json'\n",
        "]\n",
        "\n",
        "files_to_load = [f'../Dataset/{filename}' for filename in files_to_load]\n",
        "\n",
        "tag_names, block_names, entry_names, tags_multilabel, blocks = dm.load_dataset(files_to_load)\n",
        "print(f'Blocks: {block_names} ({len(block_names)})')\n",
        "print(f'Tags: {tag_names} ({len(tag_names)})')\n",
        "print(f'Data shape: {blocks.shape}')"
      ]
    },
    {
      "cell_type": "code",
      "execution_count": null,
      "metadata": {
        "id": "XOASKabDrxUs"
      },
      "outputs": [],
      "source": [
        "import seaborn as sns\n",
        "\n",
        "tag_cooccurence_matrix = dm.cooccurence_matrix(tags_multilabel)\n",
        "_ = sns.heatmap(data=tag_cooccurence_matrix, vmin=0, annot=True, xticklabels=tag_names, yticklabels=tag_names)"
      ]
    },
    {
      "cell_type": "code",
      "execution_count": null,
      "metadata": {
        "colab": {
          "base_uri": "https://localhost:8080/",
          "height": 452
        },
        "id": "TVfTdmJZasVU",
        "outputId": "0ef5a759-ca0f-4d02-d443-9dd0b726ad80"
      },
      "outputs": [],
      "source": [
        "import numpy as np\n",
        "import seaborn as sns\n",
        "\n",
        "unique, counts = np.unique(blocks, return_counts=True)\n",
        "\n",
        "ax = sns.barplot(x=[block_names[u] for u in unique], y=counts)\n",
        "_ = ax.set_title(\"Occurence of block types in the dataset.\")"
      ]
    },
    {
      "cell_type": "markdown",
      "metadata": {},
      "source": [
        "## Shared variables"
      ]
    },
    {
      "cell_type": "code",
      "execution_count": null,
      "metadata": {},
      "outputs": [],
      "source": [
        "real_dims = len(blocks.shape)-1 # 2D or 3D\n",
        "block_types = len(block_names) # number of separate classes\n",
        "latent_dims = int(block_types**0.5) # how many dimensions to encode the block types in\n",
        "print(f'real dimensions in data: {real_dims}')\n",
        "print(f'block types in data: {block_types}')\n",
        "print(f'latent dimensions to encode blocks in: {latent_dims}')"
      ]
    },
    {
      "cell_type": "markdown",
      "metadata": {},
      "source": [
        "## Encoders"
      ]
    },
    {
      "cell_type": "code",
      "execution_count": null,
      "metadata": {},
      "outputs": [],
      "source": [
        "import tensorflow as tf\n",
        "import keras\n",
        "from keras import layers\n",
        "from keras.layers import Input, Dense, Flatten, Conv3D, Conv2D, MaxPool3D, Dropout, Conv3DTranspose, Reshape, Lambda, UpSampling3D, ZeroPadding3D, CategoryEncoding, Softmax\n",
        "from keras.models import Model, Sequential\n",
        "from keras.utils import plot_model\n",
        "from voxelnn.coding.custom_layers import OneHot, Sampling\n",
        "#3d\n",
        "def create_vae_encoder3d(dimensions, latent_dimensions):\n",
        "    input = Input(shape=(None, None, None), dtype='uint8', name='encoder_input')\n",
        "    oh = OneHot(dimensions)(input)\n",
        "    c1  = Conv3D(10, kernel_size=1, activation='elu', padding='same', kernel_initializer='glorot_normal')(oh)\n",
        "    c2  = Conv3D(20, kernel_size=1, activation='elu', padding='same', kernel_initializer='glorot_normal')(c1)\n",
        "    c3  = Conv3D(20, kernel_size=1, activation='elu', padding='same', kernel_initializer='glorot_normal')(c2)\n",
        "    mean = Conv3D(latent_dimensions, kernel_size=1, activation='linear', name='mean')(c2)\n",
        "    var = Conv3D(latent_dimensions, kernel_size=1, activation='linear', kernel_initializer='zeros', name='var')(c3)\n",
        "    z = Sampling(name='encoder_output')([mean, var])\n",
        "    encoder = keras.Model(input, [mean, var, z], name=\"encoder\")\n",
        "    return encoder\n",
        "\n",
        "def create_vae_decoder3d(dimensions, latent_dimensions):\n",
        "    input = Input(shape=(None, None, None, latent_dimensions), name='decoder_input')\n",
        "    c1 = Conv3D(10, kernel_size=1, activation='elu')(input)\n",
        "    c2 = Conv3D(20, kernel_size=1, activation='elu')(c1)\n",
        "    c3 = Conv3D(20, kernel_size=1, activation='elu')(c2)\n",
        "    c4 = Conv3D(dimensions, kernel_size=1, activation='linear', name='decoder_output')(c3)\n",
        "    sm = Softmax(axis=4)(c4)\n",
        "    decoder = keras.Model(input, sm, name=\"decoder\")\n",
        "    return decoder\n",
        "\n",
        "def create_vae_encoder2d(dimensions, latent_dimensions):\n",
        "    input = Input(shape=(None, None), dtype='uint8', name='encoder_input')\n",
        "    oh = OneHot(dimensions)(input)\n",
        "    c1  = Conv2D(10, kernel_size=1, activation='elu', padding='same', kernel_initializer='glorot_normal')(oh)\n",
        "    c2  = Conv2D(20, kernel_size=1, activation='elu', padding='same', kernel_initializer='glorot_normal')(c1)\n",
        "    c3  = Conv2D(20, kernel_size=1, activation='elu', padding='same', kernel_initializer='glorot_normal')(c2)\n",
        "    mean = Conv2D(latent_dimensions, kernel_size=1, activation='linear', name='mean')(c2)\n",
        "    var = Conv2D(latent_dimensions, kernel_size=1, activation='linear', kernel_initializer='zeros', name='var')(c3)\n",
        "    z = Sampling(name='encoder_output')([mean, var])\n",
        "    encoder = keras.Model(input, [mean, var, z], name=\"encoder\")\n",
        "    return encoder\n",
        "\n",
        "def create_vae_decoder2d(dimensions, latent_dimensions):\n",
        "    input = Input(shape=(None, None, latent_dimensions), name='decoder_input')\n",
        "    c1 = Conv2D(10, kernel_size=1, activation='elu')(input)\n",
        "    c2 = Conv2D(20, kernel_size=1, activation='elu')(c1)\n",
        "    c3 = Conv2D(20, kernel_size=1, activation='elu')(c2)\n",
        "    c4 = Conv2D(dimensions, kernel_size=1, activation='linear', name='decoder_output')(c3)\n",
        "    sm = Softmax(axis=3)(c4)\n",
        "    decoder = keras.Model(input, sm, name=\"decoder\")\n",
        "    return decoder"
      ]
    },
    {
      "cell_type": "code",
      "execution_count": null,
      "metadata": {},
      "outputs": [],
      "source": [
        "from voxelnn.coding import SAE\n",
        "from voxelnn import filter_kernels as fk\n",
        "from voxelnn import jupyter_tools as jt\n",
        "\n",
        "e = create_vae_encoder2d(block_types, latent_dims)\n",
        "d = create_vae_decoder2d(block_types, latent_dims)\n",
        "e.compile()\n",
        "d.compile()\n",
        "vae = SAE.SAETrainer(e, d,\n",
        "                     filter_array=fk.create_kernel(3, real_dims, latent_dims),\n",
        "                     kld_loss_weight=0.1,\n",
        "                     str_loss_weight=0.1)\n",
        "vae.compile()"
      ]
    },
    {
      "cell_type": "code",
      "execution_count": null,
      "metadata": {},
      "outputs": [],
      "source": [
        "split = int(0.9 * blocks.shape[0])\n",
        "print(f'training on {split} entries')\n",
        "\n",
        "history = vae.fit(blocks[:split,...], epochs=100, validation_data=(blocks[split:,...], None))\n",
        "\n",
        "jt.plot_history(history)"
      ]
    },
    {
      "cell_type": "code",
      "execution_count": null,
      "metadata": {},
      "outputs": [],
      "source": [
        "import matplotlib.pyplot as plt\n",
        "import numpy as np\n",
        "\n",
        "def display_some_encoded_samples(with_sampling: bool):\n",
        "  rows = 2\n",
        "  columns = 5\n",
        "  size_per_unit = 4\n",
        "  z_mean, _, z = e.predict(blocks[(rows*columns):,...])\n",
        "  data = z_mean if with_sampling else z\n",
        "  new_array = np.zeros((*data.shape[:3], 3))\n",
        "  new_array[:, :, :, :2] = data\n",
        "  min_val = np.min(new_array)\n",
        "  max_val = np.max(new_array)\n",
        "  print((min_val, max_val))\n",
        "  normalized_array = (new_array - min_val) / (max_val - min_val)\n",
        "  print(f'min, max: {(min_val, max_val)}')\n",
        "  f, axarr = plt.subplots(rows, columns, sharex=True, sharey=True, figsize=(columns * size_per_unit, rows * size_per_unit)) \n",
        "  for i in range(rows*columns):\n",
        "    axarr[i//columns, i%columns].imshow(normalized_array[i])\n",
        "    axarr[i//columns, i%columns].axis('off')"
      ]
    },
    {
      "cell_type": "code",
      "execution_count": null,
      "metadata": {},
      "outputs": [],
      "source": [
        "if real_dims == 2:\n",
        "  display_some_encoded_samples(with_sampling=True)"
      ]
    },
    {
      "cell_type": "code",
      "execution_count": null,
      "metadata": {},
      "outputs": [],
      "source": [
        "\n",
        "if real_dims == 2:\n",
        "  display_some_encoded_samples(with_sampling=False)"
      ]
    },
    {
      "cell_type": "code",
      "execution_count": null,
      "metadata": {},
      "outputs": [],
      "source": [
        "z_mean, _, z = e.predict(blocks)"
      ]
    },
    {
      "cell_type": "code",
      "execution_count": null,
      "metadata": {},
      "outputs": [],
      "source": [
        "normalization = keras.layers.Normalization(axis=-1)\n",
        "normalization.adapt(z_mean)\n",
        "print(f'mean: {normalization.mean}')\n",
        "print(f'variance: {normalization.variance}')\n",
        "\n",
        "norm_z = normalization(z, training=False)\n",
        "\n",
        "denorm_z = normalization.mean + norm_z * normalization.variance ** 0.5\n",
        "\n",
        "data = norm_z\n",
        "new_array = np.zeros((*data.shape[:3], 3))\n",
        "new_array[:, :, :, :2] = data\n",
        "min_val = np.min(new_array)\n",
        "max_val = np.max(new_array)\n",
        "print((min_val, max_val))\n",
        "normalized_array = (new_array - min_val) / (max_val - min_val)\n",
        "new_array[:,:,:,[2]] = 0\n",
        "f, axarr = plt.subplots(10, 5, sharex=True, sharey=True, figsize=(20, 40)) \n",
        "for i in range(50):\n",
        "  axarr[i//5, i%5].imshow(normalized_array[i])\n",
        "  axarr[i//5, i%5].axis('off')"
      ]
    },
    {
      "cell_type": "code",
      "execution_count": null,
      "metadata": {},
      "outputs": [],
      "source": [
        "from voxelnn import jupyter_tools as jt\n",
        "jt.save_model(shared_model_path, \"encoder.keras\", e)\n",
        "jt.save_model(shared_model_path, \"decoder.keras\", d)"
      ]
    },
    {
      "cell_type": "code",
      "execution_count": null,
      "metadata": {},
      "outputs": [],
      "source": [
        "from voxelnn import jupyter_tools as jt\n",
        "\n",
        "e = jt.load_model(shared_model_path, \"encoder.keras\")\n",
        "d = jt.load_model(shared_model_path, \"decoder.keras\")"
      ]
    },
    {
      "cell_type": "markdown",
      "metadata": {},
      "source": [
        "## Diffusion"
      ]
    },
    {
      "cell_type": "code",
      "execution_count": null,
      "metadata": {},
      "outputs": [],
      "source": [
        "from voxelnn.diffusion import unet_builder\n",
        "\n",
        "layer_base_units = 32\n",
        "\n",
        "unet = unet_builder.build_model(input_shape=blocks.shape[1:],\n",
        "                          latent_dims=latent_dims,\n",
        "                          layer_units=[a * layer_base_units for a in [1, 2, 4, 6]],\n",
        "                          layer_has_attention=[False, False, True, True],\n",
        "                          layer_res_blocks=[2, 2, 2, 2],\n",
        "                          norm_groups=8,\n",
        "                          first_conv_channels=32,\n",
        "                          time_embedding_dims=32,\n",
        "                          max_time_emb_frequency=200.0)\n",
        "unet.compile()"
      ]
    },
    {
      "cell_type": "code",
      "execution_count": null,
      "metadata": {},
      "outputs": [],
      "source": [
        "from voxelnn.diffusion.diffusion_model import DiffusionModel\n",
        "import keras\n",
        "\n",
        "diffusion_model = DiffusionModel(unet)\n",
        "diffusion_model.compile(\n",
        "        optimizer=keras.optimizers.AdamW(\n",
        "        learning_rate=1e-3, weight_decay=1e-4\n",
        "    ),\n",
        "    loss=keras.losses.mean_absolute_error,\n",
        ")"
      ]
    },
    {
      "cell_type": "code",
      "execution_count": null,
      "metadata": {},
      "outputs": [],
      "source": [
        "z_mean, z_var, z = e.predict(np.repeat(np.concatenate([blocks, np.flip(blocks, axis=1)], axis=0), 10, axis=0))"
      ]
    },
    {
      "cell_type": "code",
      "execution_count": null,
      "metadata": {},
      "outputs": [],
      "source": [
        "diffusion_model.learn_data_distribution(z)"
      ]
    },
    {
      "cell_type": "code",
      "execution_count": null,
      "metadata": {},
      "outputs": [],
      "source": [
        "history = diffusion_model.fit(z, epochs=100)\n",
        "\n",
        "jt.plot_history(history)"
      ]
    },
    {
      "cell_type": "code",
      "execution_count": null,
      "metadata": {},
      "outputs": [],
      "source": [
        "import voxelnn.jupyter_tools as jt\n",
        "\n",
        "jt.save_model(shared_model_path, \"diffusion.keras\", diffusion_model)"
      ]
    },
    {
      "cell_type": "code",
      "execution_count": null,
      "metadata": {},
      "outputs": [],
      "source": [
        "import voxelnn.jupyter_tools as jt\n",
        "\n",
        "diffusion_model = jt.load_model(shared_model_path, \"diffusion.keras\")"
      ]
    },
    {
      "cell_type": "code",
      "execution_count": null,
      "metadata": {},
      "outputs": [],
      "source": [
        "result, data_history, noises_history, noisy_data_history = diffusion_model.generate_one_sample_with_history(diffusion_steps=50)"
      ]
    },
    {
      "cell_type": "code",
      "execution_count": null,
      "metadata": {},
      "outputs": [],
      "source": [
        "import json\n",
        "import keras\n",
        "import numpy as np\n",
        "import voxelnn.dataset_manipulation as dm\n",
        "\n",
        "def decode_many_to_json(latent_data: np.ndarray, decoder: keras.Model, name_pattern: str = None):\n",
        "    elements = latent_data.shape[0]\n",
        "    name_pattern = name_pattern or f\"Unnamed element ({{}}/{elements})\"\n",
        "    \n",
        "    entry_list = []\n",
        "    decoded = decoder.predict(latent_data)\n",
        "    real = np.argmax(decoded, axis=-1)\n",
        "\n",
        "    for i in range(elements):\n",
        "        entry = dm.construct_entry_dto(\n",
        "            str.format(name_pattern, i+1),\n",
        "            tag_names,\n",
        "            np.zeros(len(tag_names)),\n",
        "            block_names,\n",
        "            real[i,:])\n",
        "        entry_list.append(entry)\n",
        "    return json.dumps(entry_list)"
      ]
    },
    {
      "cell_type": "code",
      "execution_count": null,
      "metadata": {},
      "outputs": [],
      "source": [
        "print(\"result:\")\n",
        "voxels_result = decode_many_to_json(result, d)\n",
        "jt.result_json_widget(voxels_result)"
      ]
    },
    {
      "cell_type": "code",
      "execution_count": null,
      "metadata": {},
      "outputs": [],
      "source": [
        "print(\"noisy data history:\")\n",
        "voxels_noisy_data_history = decode_many_to_json(noisy_data_history, d)\n",
        "jt.result_json_widget(voxels_noisy_data_history)"
      ]
    },
    {
      "cell_type": "code",
      "execution_count": null,
      "metadata": {},
      "outputs": [],
      "source": [
        "print(\"data history:\")\n",
        "voxels_data_history = decode_many_to_json(data_history, d)\n",
        "jt.result_json_widget(voxels_data_history)"
      ]
    },
    {
      "cell_type": "code",
      "execution_count": null,
      "metadata": {},
      "outputs": [],
      "source": [
        "import matplotlib.pyplot as plt\n",
        "\n",
        "# render data_history\n",
        "\n",
        "new_array = np.zeros((*data_history.shape[:3], 3))\n",
        "new_array[:, :, :, :2] = data_history\n",
        "min_val = np.min(new_array)\n",
        "max_val = np.max(new_array)\n",
        "print((min_val, max_val))\n",
        "normalized_array = (new_array - min_val) / (max_val - min_val)\n",
        "f, axarr = plt.subplots(10, 5, sharex=True, sharey=True, figsize=(20, 40)) \n",
        "for i in range(50):\n",
        "  axarr[i//5, i%5].imshow(normalized_array[i])\n",
        "  axarr[i//5, i%5].axis('off')"
      ]
    },
    {
      "cell_type": "code",
      "execution_count": null,
      "metadata": {},
      "outputs": [],
      "source": [
        "import matplotlib.pyplot as plt\n",
        "\n",
        "# render noisy_data_history\n",
        "\n",
        "new_array = np.zeros((*noisy_data_history.shape[:3], 3))\n",
        "new_array[:, :, :, :2] = noisy_data_history\n",
        "min_val = np.min(new_array)\n",
        "max_val = np.max(new_array)\n",
        "print((min_val, max_val))\n",
        "normalized_array = (new_array - min_val) / (max_val - min_val)\n",
        "f, axarr = plt.subplots(10, 5, sharex=True, sharey=True, figsize=(20, 40)) \n",
        "for i in range(50):\n",
        "  axarr[i//5, i%5].imshow(normalized_array[i])\n",
        "  axarr[i//5, i%5].axis('off')"
      ]
    }
  ],
  "metadata": {
    "colab": {
      "provenance": []
    },
    "kernelspec": {
      "display_name": "Python 3 (ipykernel)",
      "language": "python",
      "name": "python3"
    },
    "language_info": {
      "codemirror_mode": {
        "name": "ipython",
        "version": 3
      },
      "file_extension": ".py",
      "mimetype": "text/x-python",
      "name": "python",
      "nbconvert_exporter": "python",
      "pygments_lexer": "ipython3",
      "version": "3.10.12"
    },
    "widgets": {
      "application/vnd.jupyter.widget-state+json": {
        "0e2ad2689efe47b68ef49e93c6dbed06": {
          "model_module": "@jupyter-widgets/base",
          "model_module_version": "1.2.0",
          "model_name": "LayoutModel",
          "state": {
            "_model_module": "@jupyter-widgets/base",
            "_model_module_version": "1.2.0",
            "_model_name": "LayoutModel",
            "_view_count": null,
            "_view_module": "@jupyter-widgets/base",
            "_view_module_version": "1.2.0",
            "_view_name": "LayoutView",
            "align_content": null,
            "align_items": null,
            "align_self": null,
            "border": null,
            "bottom": null,
            "display": "none",
            "flex": null,
            "flex_flow": null,
            "grid_area": null,
            "grid_auto_columns": null,
            "grid_auto_flow": null,
            "grid_auto_rows": null,
            "grid_column": null,
            "grid_gap": null,
            "grid_row": null,
            "grid_template_areas": null,
            "grid_template_columns": null,
            "grid_template_rows": null,
            "height": null,
            "justify_content": null,
            "justify_items": null,
            "left": null,
            "margin": null,
            "max_height": null,
            "max_width": null,
            "min_height": null,
            "min_width": null,
            "object_fit": null,
            "object_position": null,
            "order": null,
            "overflow": null,
            "overflow_x": null,
            "overflow_y": null,
            "padding": null,
            "right": null,
            "top": null,
            "visibility": null,
            "width": null
          }
        },
        "32a4584bde6941b08de79604b3a7f002": {
          "model_module": "@jupyter-widgets/controls",
          "model_module_version": "1.5.0",
          "model_name": "BoxModel",
          "state": {
            "_dom_classes": [],
            "_model_module": "@jupyter-widgets/controls",
            "_model_module_version": "1.5.0",
            "_model_name": "BoxModel",
            "_view_count": null,
            "_view_module": "@jupyter-widgets/controls",
            "_view_module_version": "1.5.0",
            "_view_name": "BoxView",
            "box_style": "",
            "children": [
              "IPY_MODEL_8ffc76efcd1a4ee4811266c07935c7b3",
              "IPY_MODEL_deadee16b2a44d74b89a3f544770c878"
            ],
            "layout": "IPY_MODEL_afff80a411254cd79390d87b679244a1"
          }
        },
        "8ffc76efcd1a4ee4811266c07935c7b3": {
          "model_module": "@jupyter-widgets/controls",
          "model_module_version": "1.5.0",
          "model_name": "ButtonModel",
          "state": {
            "_dom_classes": [],
            "_model_module": "@jupyter-widgets/controls",
            "_model_module_version": "1.5.0",
            "_model_name": "ButtonModel",
            "_view_count": null,
            "_view_module": "@jupyter-widgets/controls",
            "_view_module_version": "1.5.0",
            "_view_name": "ButtonView",
            "button_style": "",
            "description": "Copy to clipboard",
            "disabled": false,
            "icon": "copy",
            "layout": "IPY_MODEL_e9c38bca66e24b259eb257a09586c22b",
            "style": "IPY_MODEL_bf8249ae5c414cce84f5b8f5f38ffa32",
            "tooltip": ""
          }
        },
        "afff80a411254cd79390d87b679244a1": {
          "model_module": "@jupyter-widgets/base",
          "model_module_version": "1.2.0",
          "model_name": "LayoutModel",
          "state": {
            "_model_module": "@jupyter-widgets/base",
            "_model_module_version": "1.2.0",
            "_model_name": "LayoutModel",
            "_view_count": null,
            "_view_module": "@jupyter-widgets/base",
            "_view_module_version": "1.2.0",
            "_view_name": "LayoutView",
            "align_content": null,
            "align_items": null,
            "align_self": null,
            "border": null,
            "bottom": null,
            "display": null,
            "flex": null,
            "flex_flow": null,
            "grid_area": null,
            "grid_auto_columns": null,
            "grid_auto_flow": null,
            "grid_auto_rows": null,
            "grid_column": null,
            "grid_gap": null,
            "grid_row": null,
            "grid_template_areas": null,
            "grid_template_columns": null,
            "grid_template_rows": null,
            "height": null,
            "justify_content": null,
            "justify_items": null,
            "left": null,
            "margin": null,
            "max_height": null,
            "max_width": null,
            "min_height": null,
            "min_width": null,
            "object_fit": null,
            "object_position": null,
            "order": null,
            "overflow": null,
            "overflow_x": null,
            "overflow_y": null,
            "padding": null,
            "right": null,
            "top": null,
            "visibility": null,
            "width": null
          }
        },
        "bf8249ae5c414cce84f5b8f5f38ffa32": {
          "model_module": "@jupyter-widgets/controls",
          "model_module_version": "1.5.0",
          "model_name": "ButtonStyleModel",
          "state": {
            "_model_module": "@jupyter-widgets/controls",
            "_model_module_version": "1.5.0",
            "_model_name": "ButtonStyleModel",
            "_view_count": null,
            "_view_module": "@jupyter-widgets/base",
            "_view_module_version": "1.2.0",
            "_view_name": "StyleView",
            "button_color": null,
            "font_weight": ""
          }
        },
        "deadee16b2a44d74b89a3f544770c878": {
          "model_module": "@jupyter-widgets/output",
          "model_module_version": "1.0.0",
          "model_name": "OutputModel",
          "state": {
            "_dom_classes": [],
            "_model_module": "@jupyter-widgets/output",
            "_model_module_version": "1.0.0",
            "_model_name": "OutputModel",
            "_view_count": null,
            "_view_module": "@jupyter-widgets/output",
            "_view_module_version": "1.0.0",
            "_view_name": "OutputView",
            "layout": "IPY_MODEL_0e2ad2689efe47b68ef49e93c6dbed06",
            "msg_id": "",
            "outputs": [
              {
                "data": {
                  "application/javascript": "navigator.clipboard.writeText(\"{\\n    \\\"BlockNames\\\": [\\n        \\\"nothing\\\",\\n        \\\"something\\\",\\n        \\\"something else\\\"\\n    ],\\n    \\\"Blocks\\\": [\\n        1,\\n        1,\\n        1,\\n        1,\\n        1,\\n        1,\\n        1,\\n        1,\\n        1,\\n        1,\\n        1,\\n        1,\\n        1,\\n        1,\\n        1,\\n        1,\\n        1,\\n        1,\\n        1,\\n        1,\\n        1,\\n        1,\\n        1,\\n        1,\\n        1,\\n        1,\\n        1,\\n        1,\\n        1,\\n        1,\\n        1,\\n        1,\\n        1,\\n        1,\\n        1,\\n        1,\\n        1,\\n        1,\\n        1,\\n        1,\\n        1,\\n        1,\\n        1,\\n        1,\\n        1,\\n        1,\\n        1,\\n        1,\\n        1,\\n        1,\\n        1,\\n        1,\\n        0,\\n        0,\\n        1,\\n        1,\\n        1,\\n        1,\\n        1,\\n        1,\\n        1,\\n        1,\\n        1,\\n        1,\\n        1,\\n        1,\\n        1,\\n        1,\\n        0,\\n        0,\\n        1,\\n        0,\\n        1,\\n        1,\\n        1,\\n        1,\\n        1,\\n        1,\\n        1,\\n        1,\\n        1,\\n        0,\\n        1,\\n        1,\\n        0,\\n        0,\\n        1,\\n        0,\\n        1,\\n        0,\\n        1,\\n        1,\\n        1,\\n        1,\\n        1,\\n        1,\\n        0,\\n        0,\\n        1,\\n        1,\\n        0,\\n        0,\\n        1,\\n        0,\\n        1,\\n        0,\\n        1,\\n        1,\\n        1,\\n        1,\\n        1,\\n        1,\\n        0,\\n        0,\\n        0,\\n        0,\\n        0,\\n        0,\\n        0,\\n        0,\\n        1,\\n        0,\\n        1,\\n        1,\\n        1,\\n        1,\\n        1,\\n        1,\\n        0,\\n        0,\\n        0,\\n        0,\\n        0,\\n        0,\\n        0,\\n        0,\\n        0,\\n        0,\\n        1,\\n        0,\\n        1,\\n        0,\\n        1,\\n        1,\\n        0,\\n        0,\\n        0,\\n        0,\\n        0,\\n        0,\\n        0,\\n        0,\\n        0,\\n        0,\\n        1,\\n        0,\\n        1,\\n        0,\\n        1,\\n        0,\\n        0,\\n        0,\\n        0,\\n        0,\\n        0,\\n        0,\\n        0,\\n        0,\\n        0,\\n        0,\\n        0,\\n        0,\\n        0,\\n        0,\\n        0,\\n        0,\\n        0,\\n        0,\\n        0,\\n        0,\\n        0,\\n        0,\\n        0,\\n        0,\\n        0,\\n        0,\\n        0,\\n        0,\\n        0,\\n        0,\\n        0,\\n        0,\\n        0,\\n        0,\\n        0,\\n        0,\\n        0,\\n        0,\\n        0,\\n        0,\\n        0,\\n        0,\\n        0,\\n        0,\\n        0,\\n        0,\\n        0,\\n        0,\\n        0,\\n        0,\\n        0,\\n        0,\\n        0,\\n        0,\\n        0,\\n        0,\\n        0,\\n        0,\\n        0,\\n        0,\\n        0,\\n        0,\\n        0,\\n        0,\\n        1,\\n        1,\\n        1,\\n        1,\\n        1,\\n        1,\\n        1,\\n        1,\\n        1,\\n        1,\\n        1,\\n        1,\\n        1,\\n        1,\\n        1,\\n        1,\\n        1,\\n        1,\\n        1,\\n        1,\\n        1,\\n        1,\\n        1,\\n        1,\\n        1,\\n        1,\\n        1,\\n        1,\\n        1,\\n        1,\\n        1,\\n        1,\\n        0,\\n        1,\\n        1,\\n        1,\\n        1,\\n        1,\\n        1,\\n        1,\\n        1,\\n        1,\\n        1,\\n        1,\\n        1,\\n        1,\\n        1,\\n        1,\\n        0,\\n        0,\\n        1,\\n        0,\\n        1,\\n        1,\\n        1,\\n        1,\\n        1,\\n        1,\\n        1,\\n        1,\\n        1,\\n        1,\\n        1,\\n        1,\\n        0,\\n        0,\\n        0,\\n        0,\\n        0,\\n        1,\\n        0,\\n        1,\\n        1,\\n        1,\\n        1,\\n        1,\\n        1,\\n        1,\\n        1,\\n        1,\\n        0,\\n        0,\\n        0,\\n        0,\\n        0,\\n        1,\\n        0,\\n        0,\\n        1,\\n        1,\\n        1,\\n        1,\\n        1,\\n        1,\\n        1,\\n        1,\\n        0,\\n        0,\\n        0,\\n        0,\\n        0,\\n        1,\\n        0,\\n        0,\\n        0,\\n        1,\\n        1,\\n        1,\\n        1,\\n        1,\\n        1,\\n        1,\\n        0,\\n        0,\\n        0,\\n        0,\\n        0,\\n        1,\\n        0,\\n        0,\\n        0,\\n        1,\\n        1,\\n        1,\\n        0,\\n        1,\\n        1,\\n        1,\\n        0,\\n        0,\\n        0,\\n        0,\\n        0,\\n        0,\\n        0,\\n        0,\\n        0,\\n        1,\\n        1,\\n        1,\\n        0,\\n        1,\\n        1,\\n        1,\\n        0,\\n        0,\\n        0,\\n        0,\\n        0,\\n        0,\\n        0,\\n        0,\\n        0,\\n        1,\\n        1,\\n        1,\\n        0,\\n        1,\\n        1,\\n        1,\\n        0,\\n        0,\\n        0,\\n        0,\\n        0,\\n        0,\\n        0,\\n        0,\\n        0,\\n        0,\\n        1,\\n        1,\\n        0,\\n        0,\\n        1,\\n        1,\\n        0,\\n        0,\\n        0,\\n        0,\\n        0,\\n        0,\\n        0,\\n        0,\\n        0,\\n        0,\\n        0,\\n        1,\\n        0,\\n        0,\\n        1,\\n        1,\\n        0,\\n        0,\\n        0,\\n        0,\\n        0,\\n        0,\\n        0,\\n        0,\\n        0,\\n        0,\\n        0,\\n        0,\\n        0,\\n        0,\\n        0,\\n        0,\\n        0,\\n        0,\\n        0,\\n        0,\\n        0,\\n        0,\\n        0,\\n        0,\\n        0,\\n        0,\\n        0,\\n        0,\\n        0,\\n        0,\\n        0,\\n        0,\\n        1,\\n        1,\\n        1,\\n        1,\\n        1,\\n        1,\\n        1,\\n        1,\\n        1,\\n        1,\\n        1,\\n        1,\\n        1,\\n        1,\\n        1,\\n        1,\\n        1,\\n        1,\\n        1,\\n        1,\\n        1,\\n        1,\\n        1,\\n        1,\\n        1,\\n        1,\\n        1,\\n        1,\\n        1,\\n        1,\\n        1,\\n        1,\\n        1,\\n        1,\\n        1,\\n        1,\\n        1,\\n        1,\\n        1,\\n        1,\\n        1,\\n        1,\\n        1,\\n        1,\\n        1,\\n        1,\\n        1,\\n        1,\\n        1,\\n        0,\\n        1,\\n        0,\\n        1,\\n        1,\\n        1,\\n        1,\\n        1,\\n        1,\\n        1,\\n        1,\\n        1,\\n        1,\\n        1,\\n        1,\\n        1,\\n        0,\\n        0,\\n        0,\\n        1,\\n        1,\\n        1,\\n        1,\\n        1,\\n        1,\\n        1,\\n        1,\\n        1,\\n        1,\\n        1,\\n        1,\\n        0,\\n        0,\\n        0,\\n        0,\\n        1,\\n        1,\\n        1,\\n        1,\\n        1,\\n        1,\\n        1,\\n        1,\\n        1,\\n        1,\\n        1,\\n        1,\\n        0,\\n        0,\\n        0,\\n        0,\\n        1,\\n        1,\\n        1,\\n        1,\\n        1,\\n        1,\\n        1,\\n        1,\\n        1,\\n        1,\\n        1,\\n        1,\\n        0,\\n        0,\\n        0,\\n        0,\\n        1,\\n        1,\\n        1,\\n        1,\\n        0,\\n        1,\\n        0,\\n        1,\\n        1,\\n        1,\\n        1,\\n        1,\\n        0,\\n        0,\\n        0,\\n        0,\\n        1,\\n        1,\\n        1,\\n        1,\\n        0,\\n        1,\\n        0,\\n        1,\\n        1,\\n        0,\\n        1,\\n        1,\\n        0,\\n        0,\\n        0,\\n        0,\\n        0,\\n        0,\\n        0,\\n        1,\\n        0,\\n        1,\\n        0,\\n        0,\\n        0,\\n        0,\\n        1,\\n        1,\\n        0,\\n        0,\\n        0,\\n        0,\\n        0,\\n        0,\\n        0,\\n        0,\\n        0,\\n        1,\\n        0,\\n        0,\\n        0,\\n        0,\\n        1,\\n        0,\\n        0,\\n        0,\\n        0,\\n        0,\\n        0,\\n        0,\\n        0,\\n        0,\\n        0,\\n        0,\\n        0,\\n        0,\\n        0,\\n        0,\\n        1,\\n        0,\\n        0,\\n        0,\\n        0,\\n        0,\\n        0,\\n        0,\\n        0,\\n        0,\\n        0,\\n        0,\\n        0,\\n        0,\\n        0,\\n        0,\\n        0,\\n        0,\\n        0,\\n        0,\\n        0,\\n        0,\\n        0,\\n        0,\\n        0,\\n        0,\\n        0,\\n        0,\\n        0,\\n        0,\\n        0,\\n        0,\\n        0,\\n        0,\\n        1,\\n        1,\\n        1,\\n        1,\\n        1,\\n        1,\\n        1,\\n        1,\\n        1,\\n        1,\\n        1,\\n        1,\\n        1,\\n        1,\\n        1,\\n        1,\\n        1,\\n        1,\\n        1,\\n        1,\\n        1,\\n        1,\\n        1,\\n        1,\\n        1,\\n        1,\\n        1,\\n        1,\\n        1,\\n        1,\\n        1,\\n        1,\\n        1,\\n        1,\\n        1,\\n        1,\\n        1,\\n        1,\\n        1,\\n        1,\\n        1,\\n        1,\\n        1,\\n        1,\\n        1,\\n        1,\\n        1,\\n        1,\\n        1,\\n        1,\\n        1,\\n        1,\\n        1,\\n        1,\\n        1,\\n        1,\\n        1,\\n        1,\\n        1,\\n        1,\\n        1,\\n        1,\\n        1,\\n        1,\\n        1,\\n        0,\\n        1,\\n        1,\\n        1,\\n        1,\\n        1,\\n        1,\\n        1,\\n        1,\\n        1,\\n        1,\\n        1,\\n        1,\\n        1,\\n        1,\\n        1,\\n        0,\\n        1,\\n        1,\\n        1,\\n        1,\\n        1,\\n        1,\\n        1,\\n        1,\\n        1,\\n        1,\\n        1,\\n        1,\\n        1,\\n        1,\\n        1,\\n        0,\\n        0,\\n        1,\\n        0,\\n        0,\\n        1,\\n        1,\\n        1,\\n        1,\\n        1,\\n        1,\\n        1,\\n        1,\\n        1,\\n        1,\\n        0,\\n        0,\\n        0,\\n        0,\\n        0,\\n        0,\\n        1,\\n        1,\\n        0,\\n        1,\\n        1,\\n        1,\\n        1,\\n        1,\\n        1,\\n        1,\\n        0,\\n        0,\\n        0,\\n        0,\\n        0,\\n        0,\\n        1,\\n        1,\\n        0,\\n        1,\\n        1,\\n        0,\\n        1,\\n        1,\\n        1,\\n        1,\\n        0,\\n        0,\\n        0,\\n        0,\\n        0,\\n        0,\\n        0,\\n        0,\\n        0,\\n        0,\\n        1,\\n        0,\\n        1,\\n        1,\\n        1,\\n        1,\\n        0,\\n        0,\\n        0,\\n        0,\\n        0,\\n        0,\\n        0,\\n        0,\\n        0,\\n        0,\\n        1,\\n        0,\\n        1,\\n        1,\\n        1,\\n        1,\\n        0,\\n        0,\\n        0,\\n        0,\\n        0,\\n        0,\\n        0,\\n        0,\\n        0,\\n        0,\\n        0,\\n        0,\\n        1,\\n        1,\\n        1,\\n        1,\\n        0,\\n        0,\\n        0,\\n        0,\\n        0,\\n        0,\\n        0,\\n        0,\\n        0,\\n        0,\\n        0,\\n        0,\\n        1,\\n        0,\\n        0,\\n        1,\\n        0,\\n        0,\\n        0,\\n        0,\\n        0,\\n        0,\\n        0,\\n        0,\\n        0,\\n        0,\\n        0,\\n        0,\\n        0,\\n        0,\\n        0,\\n        0,\\n        1,\\n        1,\\n        1,\\n        1,\\n        1,\\n        1,\\n        1,\\n        1,\\n        1,\\n        1,\\n        1,\\n        1,\\n        1,\\n        1,\\n        1,\\n        1,\\n        1,\\n        1,\\n        1,\\n        1,\\n        1,\\n        1,\\n        1,\\n        1,\\n        1,\\n        1,\\n        1,\\n        1,\\n        1,\\n        1,\\n        1,\\n        1,\\n        1,\\n        1,\\n        1,\\n        1,\\n        1,\\n        1,\\n        1,\\n        1,\\n        1,\\n        1,\\n        1,\\n        1,\\n        1,\\n        1,\\n        1,\\n        1,\\n        1,\\n        1,\\n        1,\\n        1,\\n        1,\\n        1,\\n        1,\\n        1,\\n        1,\\n        1,\\n        1,\\n        1,\\n        1,\\n        1,\\n        1,\\n        1,\\n        1,\\n        0,\\n        1,\\n        1,\\n        1,\\n        1,\\n        1,\\n        1,\\n        1,\\n        1,\\n        1,\\n        1,\\n        1,\\n        1,\\n        1,\\n        1,\\n        0,\\n        0,\\n        1,\\n        1,\\n        0,\\n        1,\\n        1,\\n        1,\\n        1,\\n        1,\\n        1,\\n        1,\\n        1,\\n        1,\\n        1,\\n        1,\\n        0,\\n        0,\\n        1,\\n        1,\\n        0,\\n        0,\\n        0,\\n        0,\\n        1,\\n        1,\\n        1,\\n        1,\\n        1,\\n        1,\\n        1,\\n        1,\\n        0,\\n        0,\\n        0,\\n        0,\\n        0,\\n        0,\\n        0,\\n        0,\\n        1,\\n        1,\\n        1,\\n        1,\\n        1,\\n        1,\\n        1,\\n        1,\\n        0,\\n        0,\\n        0,\\n        0,\\n        0,\\n        0,\\n        0,\\n        0,\\n        1,\\n        1,\\n        1,\\n        1,\\n        1,\\n        1,\\n        1,\\n        1,\\n        0,\\n        0,\\n        0,\\n        0,\\n        0,\\n        0,\\n        0,\\n        0,\\n        1,\\n        1,\\n        1,\\n        1,\\n        1,\\n        1,\\n        1,\\n        1,\\n        0,\\n        0,\\n        0,\\n        0,\\n        0,\\n        0,\\n        0,\\n        0,\\n        0,\\n        1,\\n        1,\\n        1,\\n        1,\\n        1,\\n        1,\\n        0,\\n        0,\\n        0,\\n        0,\\n        0,\\n        0,\\n        0,\\n        0,\\n        0,\\n        0,\\n        1,\\n        0,\\n        0,\\n        0,\\n        1,\\n        1,\\n        0,\\n        0,\\n        0,\\n        0,\\n        0,\\n        0,\\n        0,\\n        0,\\n        0,\\n        0,\\n        0,\\n        0,\\n        0,\\n        0,\\n        1,\\n        1,\\n        0,\\n        0,\\n        0,\\n        0,\\n        0,\\n        0,\\n        0,\\n        0,\\n        0,\\n        0,\\n        0,\\n        0,\\n        0,\\n        0,\\n        1,\\n        0,\\n        0,\\n        1,\\n        1,\\n        1,\\n        1,\\n        1,\\n        1,\\n        1,\\n        1,\\n        1,\\n        1,\\n        1,\\n        1,\\n        1,\\n        1,\\n        1,\\n        1,\\n        1,\\n        1,\\n        1,\\n        1,\\n        1,\\n        1,\\n        1,\\n        1,\\n        1,\\n        1,\\n        1,\\n        1,\\n        1,\\n        1,\\n        1,\\n        1,\\n        1,\\n        1,\\n        1,\\n        1,\\n        1,\\n        1,\\n        1,\\n        1,\\n        1,\\n        1,\\n        1,\\n        1,\\n        1,\\n        1,\\n        1,\\n        1,\\n        1,\\n        1,\\n        1,\\n        1,\\n        1,\\n        1,\\n        1,\\n        1,\\n        1,\\n        1,\\n        1,\\n        1,\\n        1,\\n        1,\\n        1,\\n        1,\\n        1,\\n        0,\\n        1,\\n        1,\\n        1,\\n        1,\\n        1,\\n        1,\\n        1,\\n        1,\\n        1,\\n        1,\\n        1,\\n        1,\\n        1,\\n        1,\\n        1,\\n        0,\\n        1,\\n        1,\\n        1,\\n        1,\\n        1,\\n        1,\\n        1,\\n        1,\\n        1,\\n        1,\\n        1,\\n        1,\\n        1,\\n        1,\\n        1,\\n        0,\\n        1,\\n        0,\\n        0,\\n        0,\\n        1,\\n        1,\\n        1,\\n        1,\\n        1,\\n        1,\\n        1,\\n        1,\\n        1,\\n        1,\\n        1,\\n        0,\\n        1,\\n        0,\\n        0,\\n        0,\\n        1,\\n        1,\\n        1,\\n        1,\\n        1,\\n        1,\\n        1,\\n        1,\\n        1,\\n        1,\\n        0,\\n        0,\\n        0,\\n        0,\\n        0,\\n        0,\\n        1,\\n        1,\\n        1,\\n        1,\\n        1,\\n        1,\\n        1,\\n        1,\\n        1,\\n        1,\\n        0,\\n        0,\\n        0,\\n        0,\\n        0,\\n        0,\\n        1,\\n        1,\\n        0,\\n        1,\\n        1,\\n        1,\\n        1,\\n        1,\\n        1,\\n        1,\\n        0,\\n        0,\\n        0,\\n        0,\\n        0,\\n        0,\\n        0,\\n        0,\\n        0,\\n        0,\\n        0,\\n        1,\\n        1,\\n        1,\\n        1,\\n        1,\\n        0,\\n        0,\\n        0,\\n        0,\\n        0,\\n        0,\\n        0,\\n        0,\\n        0,\\n        0,\\n        0,\\n        1,\\n        1,\\n        1,\\n        0,\\n        1,\\n        0,\\n        0,\\n        0,\\n        0,\\n        0,\\n        0,\\n        0,\\n        0,\\n        0,\\n        0,\\n        0,\\n        1,\\n        1,\\n        0,\\n        0,\\n        0,\\n        0,\\n        0,\\n        0,\\n        0,\\n        0,\\n        0,\\n        0,\\n        0,\\n        0,\\n        0,\\n        0,\\n        1,\\n        1,\\n        0,\\n        0,\\n        0,\\n        1,\\n        1,\\n        1,\\n        1,\\n        1,\\n        1,\\n        1,\\n        1,\\n        1,\\n        1,\\n        1,\\n        1,\\n        1,\\n        1,\\n        1,\\n        1,\\n        1,\\n        1,\\n        1,\\n        1,\\n        1,\\n        1,\\n        1,\\n        1,\\n        1,\\n        1,\\n        1,\\n        1,\\n        1,\\n        1,\\n        1,\\n        1,\\n        1,\\n        1,\\n        1,\\n        1,\\n        1,\\n        1,\\n        1,\\n        1,\\n        1,\\n        1,\\n        1,\\n        1,\\n        1,\\n        1,\\n        1,\\n        1,\\n        1,\\n        1,\\n        1,\\n        1,\\n        1,\\n        1,\\n        1,\\n        1,\\n        1,\\n        1,\\n        1,\\n        1,\\n        1,\\n        1,\\n        1,\\n        1,\\n        1,\\n        1,\\n        1,\\n        1,\\n        1,\\n        1,\\n        1,\\n        1,\\n        1,\\n        1,\\n        1,\\n        1,\\n        1,\\n        1,\\n        1,\\n        1,\\n        1,\\n        1,\\n        1,\\n        1,\\n        1,\\n        1,\\n        1,\\n        1,\\n        1,\\n        1,\\n        1,\\n        1,\\n        1,\\n        1,\\n        1,\\n        1,\\n        1,\\n        1,\\n        0,\\n        1,\\n        1,\\n        1,\\n        1,\\n        1,\\n        1,\\n        1,\\n        1,\\n        1,\\n        1,\\n        1,\\n        1,\\n        1,\\n        1,\\n        1,\\n        0,\\n        1,\\n        0,\\n        1,\\n        1,\\n        1,\\n        1,\\n        1,\\n        1,\\n        1,\\n        1,\\n        1,\\n        1,\\n        1,\\n        0,\\n        1,\\n        0,\\n        1,\\n        0,\\n        1,\\n        0,\\n        1,\\n        1,\\n        1,\\n        1,\\n        1,\\n        1,\\n        1,\\n        1,\\n        1,\\n        0,\\n        0,\\n        0,\\n        0,\\n        0,\\n        0,\\n        0,\\n        0,\\n        1,\\n        1,\\n        1,\\n        1,\\n        1,\\n        1,\\n        1,\\n        1,\\n        0,\\n        0,\\n        0,\\n        0,\\n        0,\\n        0,\\n        0,\\n        0,\\n        1,\\n        1,\\n        1,\\n        1,\\n        1,\\n        1,\\n        1,\\n        1,\\n        0,\\n        0,\\n        0,\\n        0,\\n        0,\\n        0,\\n        0,\\n        0,\\n        1,\\n        1,\\n        1,\\n        0,\\n        0,\\n        1,\\n        1,\\n        1,\\n        0,\\n        0,\\n        0,\\n        0,\\n        0,\\n        0,\\n        0,\\n        0,\\n        0,\\n        1,\\n        1,\\n        0,\\n        0,\\n        1,\\n        0,\\n        1,\\n        0,\\n        0,\\n        0,\\n        0,\\n        0,\\n        0,\\n        0,\\n        0,\\n        0,\\n        0,\\n        1,\\n        0,\\n        0,\\n        0,\\n        0,\\n        0,\\n        1,\\n        1,\\n        1,\\n        1,\\n        1,\\n        1,\\n        1,\\n        1,\\n        1,\\n        1,\\n        1,\\n        1,\\n        1,\\n        1,\\n        1,\\n        1,\\n        1,\\n        1,\\n        1,\\n        1,\\n        1,\\n        1,\\n        1,\\n        1,\\n        1,\\n        1,\\n        1,\\n        1,\\n        1,\\n        1,\\n        1,\\n        1,\\n        1,\\n        1,\\n        1,\\n        1,\\n        1,\\n        1,\\n        1,\\n        1,\\n        1,\\n        1,\\n        1,\\n        1,\\n        1,\\n        1,\\n        1,\\n        1,\\n        1,\\n        1,\\n        1,\\n        1,\\n        1,\\n        1,\\n        1,\\n        1,\\n        1,\\n        1,\\n        1,\\n        1,\\n        1,\\n        1,\\n        1,\\n        1,\\n        1,\\n        1,\\n        1,\\n        1,\\n        1,\\n        1,\\n        1,\\n        1,\\n        1,\\n        1,\\n        1,\\n        1,\\n        1,\\n        1,\\n        1,\\n        1,\\n        1,\\n        1,\\n        1,\\n        1,\\n        1,\\n        1,\\n        1,\\n        1,\\n        1,\\n        1,\\n        1,\\n        1,\\n        1,\\n        1,\\n        1,\\n        1,\\n        0,\\n        0,\\n        1,\\n        1,\\n        1,\\n        1,\\n        1,\\n        1,\\n        1,\\n        1,\\n        1,\\n        1,\\n        1,\\n        1,\\n        1,\\n        1,\\n        0,\\n        0,\\n        1,\\n        0,\\n        1,\\n        1,\\n        1,\\n        1,\\n        1,\\n        1,\\n        1,\\n        1,\\n        1,\\n        1,\\n        1,\\n        1,\\n        0,\\n        0,\\n        1,\\n        0,\\n        1,\\n        1,\\n        1,\\n        1,\\n        1,\\n        1,\\n        1,\\n        1,\\n        1,\\n        1,\\n        1,\\n        1,\\n        0,\\n        0,\\n        1,\\n        0,\\n        0,\\n        0,\\n        1,\\n        0,\\n        1,\\n        1,\\n        1,\\n        1,\\n        1,\\n        1,\\n        1,\\n        1,\\n        0,\\n        0,\\n        0,\\n        0,\\n        0,\\n        0,\\n        1,\\n        0,\\n        1,\\n        1,\\n        1,\\n        0,\\n        1,\\n        1,\\n        1,\\n        1,\\n        0,\\n        0,\\n        0,\\n        0,\\n        0,\\n        0,\\n        0,\\n        0,\\n        1,\\n        1,\\n        1,\\n        0,\\n        1,\\n        1,\\n        1,\\n        1,\\n        0,\\n        0,\\n        0,\\n        0,\\n        0,\\n        0,\\n        0,\\n        0,\\n        1,\\n        1,\\n        0,\\n        0,\\n        1,\\n        1,\\n        1,\\n        1,\\n        0,\\n        0,\\n        0,\\n        0,\\n        0,\\n        0,\\n        0,\\n        0,\\n        0,\\n        0,\\n        0,\\n        0,\\n        1,\\n        0,\\n        0,\\n        1,\\n        1,\\n        1,\\n        1,\\n        1,\\n        1,\\n        1,\\n        1,\\n        1,\\n        1,\\n        1,\\n        1,\\n        1,\\n        1,\\n        1,\\n        1,\\n        1,\\n        1,\\n        1,\\n        1,\\n        1,\\n        1,\\n        1,\\n        1,\\n        1,\\n        1,\\n        1,\\n        1,\\n        1,\\n        1,\\n        1,\\n        1,\\n        1,\\n        1,\\n        1,\\n        1,\\n        1,\\n        1,\\n        1,\\n        1,\\n        1,\\n        1,\\n        1,\\n        1,\\n        1,\\n        1,\\n        1,\\n        1,\\n        1,\\n        1,\\n        1,\\n        1,\\n        1,\\n        1,\\n        1,\\n        1,\\n        1,\\n        1,\\n        1,\\n        1,\\n        1,\\n        1,\\n        1,\\n        1,\\n        1,\\n        1,\\n        1,\\n        1,\\n        1,\\n        1,\\n        1,\\n        1,\\n        1,\\n        1,\\n        1,\\n        1,\\n        1,\\n        1,\\n        1,\\n        1,\\n        1,\\n        1,\\n        0,\\n        1,\\n        1,\\n        1,\\n        1,\\n        1,\\n        1,\\n        1,\\n        1,\\n        1,\\n        1,\\n        1,\\n        1,\\n        1,\\n        1,\\n        1,\\n        0,\\n        1,\\n        1,\\n        1,\\n        1,\\n        1,\\n        1,\\n        1,\\n        1,\\n        1,\\n        1,\\n        1,\\n        1,\\n        1,\\n        1,\\n        1,\\n        0,\\n        0,\\n        1,\\n        1,\\n        1,\\n        1,\\n        1,\\n        1,\\n        1,\\n        1,\\n        1,\\n        1,\\n        1,\\n        1,\\n        1,\\n        1,\\n        0,\\n        0,\\n        0,\\n        1,\\n        1,\\n        1,\\n        1,\\n        1,\\n        1,\\n        1,\\n        1,\\n        1,\\n        1,\\n        1,\\n        1,\\n        1,\\n        0,\\n        0,\\n        0,\\n        1,\\n        0,\\n        1,\\n        1,\\n        0,\\n        1,\\n        1,\\n        1,\\n        1,\\n        1,\\n        1,\\n        1,\\n        0,\\n        0,\\n        0,\\n        0,\\n        0,\\n        0,\\n        1,\\n        0,\\n        0,\\n        1,\\n        1,\\n        1,\\n        1,\\n        1,\\n        1,\\n        1,\\n        0,\\n        0,\\n        0,\\n        0,\\n        0,\\n        0,\\n        0,\\n        0,\\n        0,\\n        1,\\n        1,\\n        1,\\n        1,\\n        1,\\n        1,\\n        1,\\n        0,\\n        0,\\n        0,\\n        0,\\n        0,\\n        0,\\n        0,\\n        0,\\n        0,\\n        1,\\n        1,\\n        1,\\n        1,\\n        1,\\n        1,\\n        1,\\n        0,\\n        0,\\n        0,\\n        0,\\n        0,\\n        0,\\n        0,\\n        0,\\n        0,\\n        0,\\n        1,\\n        1,\\n        1,\\n        0,\\n        1,\\n        1,\\n        1,\\n        1,\\n        1,\\n        1,\\n        1,\\n        1,\\n        1,\\n        1,\\n        1,\\n        1,\\n        1,\\n        1,\\n        1,\\n        1,\\n        1,\\n        1,\\n        1,\\n        1,\\n        1,\\n        1,\\n        1,\\n        1,\\n        1,\\n        1,\\n        1,\\n        1,\\n        1,\\n        1,\\n        1,\\n        1,\\n        1,\\n        1,\\n        1,\\n        1,\\n        1,\\n        1,\\n        1,\\n        1,\\n        1,\\n        1,\\n        1,\\n        1,\\n        1,\\n        1,\\n        1,\\n        1,\\n        1,\\n        1,\\n        1,\\n        1,\\n        1,\\n        1,\\n        1,\\n        1,\\n        1,\\n        1,\\n        1,\\n        1,\\n        1,\\n        1,\\n        1,\\n        1,\\n        1,\\n        1,\\n        1,\\n        1,\\n        1,\\n        1,\\n        1,\\n        1,\\n        1,\\n        1,\\n        1,\\n        1,\\n        1,\\n        1,\\n        1,\\n        1,\\n        1,\\n        1,\\n        1,\\n        1,\\n        1,\\n        1,\\n        1,\\n        1,\\n        1,\\n        1,\\n        1,\\n        1,\\n        1,\\n        1,\\n        1,\\n        1,\\n        1,\\n        1,\\n        1,\\n        1,\\n        1,\\n        1,\\n        1,\\n        1,\\n        1,\\n        1,\\n        1,\\n        1,\\n        1,\\n        1,\\n        1,\\n        1,\\n        1,\\n        1,\\n        1,\\n        0,\\n        1,\\n        1,\\n        1,\\n        1,\\n        1,\\n        1,\\n        1,\\n        1,\\n        1,\\n        1,\\n        1,\\n        1,\\n        1,\\n        1,\\n        1,\\n        0,\\n        0,\\n        1,\\n        1,\\n        1,\\n        1,\\n        1,\\n        1,\\n        1,\\n        1,\\n        1,\\n        1,\\n        1,\\n        1,\\n        1,\\n        1,\\n        0,\\n        0,\\n        1,\\n        1,\\n        1,\\n        1,\\n        1,\\n        1,\\n        1,\\n        1,\\n        1,\\n        1,\\n        1,\\n        1,\\n        1,\\n        0,\\n        0,\\n        0,\\n        1,\\n        0,\\n        1,\\n        1,\\n        0,\\n        1,\\n        1,\\n        1,\\n        1,\\n        1,\\n        1,\\n        1,\\n        1,\\n        0,\\n        0,\\n        0,\\n        0,\\n        0,\\n        1,\\n        0,\\n        0,\\n        1,\\n        1,\\n        1,\\n        1,\\n        1,\\n        1,\\n        1,\\n        1,\\n        0,\\n        0,\\n        0,\\n        0,\\n        0,\\n        1,\\n        0,\\n        0,\\n        0,\\n        1,\\n        0,\\n        1,\\n        1,\\n        1,\\n        1,\\n        1,\\n        0,\\n        0,\\n        0,\\n        0,\\n        0,\\n        0,\\n        0,\\n        0,\\n        0,\\n        1,\\n        0,\\n        1,\\n        1,\\n        1,\\n        1,\\n        1,\\n        1,\\n        1,\\n        1,\\n        1,\\n        1,\\n        1,\\n        1,\\n        1,\\n        1,\\n        1,\\n        1,\\n        1,\\n        1,\\n        1,\\n        1,\\n        1,\\n        1,\\n        1,\\n        1,\\n        1,\\n        1,\\n        1,\\n        1,\\n        1,\\n        1,\\n        1,\\n        1,\\n        1,\\n        1,\\n        1,\\n        1,\\n        1,\\n        1,\\n        1,\\n        1,\\n        1,\\n        1,\\n        1,\\n        1,\\n        1,\\n        1,\\n        1,\\n        1,\\n        1,\\n        1,\\n        1,\\n        1,\\n        1,\\n        1,\\n        1,\\n        1,\\n        1,\\n        1,\\n        1,\\n        1,\\n        1,\\n        1,\\n        1,\\n        1,\\n        1,\\n        1,\\n        1,\\n        1,\\n        1,\\n        1,\\n        1,\\n        1,\\n        1,\\n        1,\\n        1,\\n        1,\\n        1,\\n        1,\\n        1,\\n        1,\\n        1,\\n        1,\\n        1,\\n        1,\\n        1,\\n        1,\\n        1,\\n        1,\\n        1,\\n        1,\\n        1,\\n        1,\\n        1,\\n        1,\\n        1,\\n        1,\\n        1,\\n        1,\\n        1,\\n        1,\\n        1,\\n        1,\\n        1,\\n        1,\\n        1,\\n        1,\\n        1,\\n        1,\\n        1,\\n        1,\\n        1,\\n        1,\\n        1,\\n        1,\\n        1,\\n        1,\\n        1,\\n        1,\\n        1,\\n        1,\\n        1,\\n        1,\\n        1,\\n        1,\\n        1,\\n        1,\\n        1,\\n        1,\\n        1,\\n        1,\\n        1,\\n        1,\\n        1,\\n        0,\\n        1,\\n        1,\\n        0,\\n        0,\\n        1,\\n        1,\\n        1,\\n        1,\\n        1,\\n        1,\\n        1,\\n        1,\\n        1,\\n        1,\\n        1,\\n        0,\\n        1,\\n        1,\\n        0,\\n        0,\\n        1,\\n        0,\\n        0,\\n        1,\\n        1,\\n        1,\\n        1,\\n        1,\\n        1,\\n        1,\\n        1,\\n        0,\\n        1,\\n        1,\\n        0,\\n        0,\\n        1,\\n        0,\\n        0,\\n        1,\\n        1,\\n        1,\\n        1,\\n        1,\\n        1,\\n        1,\\n        1,\\n        0,\\n        0,\\n        0,\\n        0,\\n        0,\\n        0,\\n        0,\\n        0,\\n        1,\\n        0,\\n        1,\\n        1,\\n        1,\\n        1,\\n        1,\\n        1,\\n        0,\\n        0,\\n        0,\\n        0,\\n        0,\\n        0,\\n        0,\\n        0,\\n        1,\\n        0,\\n        1,\\n        1,\\n        1,\\n        1,\\n        1,\\n        1,\\n        0,\\n        0,\\n        0,\\n        0,\\n        0,\\n        0,\\n        0,\\n        0,\\n        0,\\n        0,\\n        0,\\n        0,\\n        1,\\n        0,\\n        0,\\n        1,\\n        1,\\n        1,\\n        1,\\n        1,\\n        1,\\n        1,\\n        1,\\n        1,\\n        1,\\n        1,\\n        1,\\n        1,\\n        1,\\n        1,\\n        1,\\n        1,\\n        1,\\n        1,\\n        1,\\n        1,\\n        1,\\n        1,\\n        1,\\n        1,\\n        1,\\n        1,\\n        1,\\n        1,\\n        1,\\n        1,\\n        1,\\n        1,\\n        1,\\n        1,\\n        1,\\n        1,\\n        1,\\n        1,\\n        1,\\n        1,\\n        1,\\n        1,\\n        1,\\n        1,\\n        1,\\n        1,\\n        1,\\n        1,\\n        1,\\n        1,\\n        1,\\n        1,\\n        1,\\n        1,\\n        1,\\n        1,\\n        1,\\n        1,\\n        1,\\n        1,\\n        1,\\n        1,\\n        1,\\n        1,\\n        1,\\n        1,\\n        1,\\n        1,\\n        1,\\n        1,\\n        1,\\n        1,\\n        1,\\n        1,\\n        1,\\n        1,\\n        1,\\n        1,\\n        1,\\n        1,\\n        1,\\n        1,\\n        1,\\n        1,\\n        1,\\n        1,\\n        1,\\n        1,\\n        1,\\n        1,\\n        1,\\n        1,\\n        1,\\n        1,\\n        1,\\n        1,\\n        1,\\n        1,\\n        1,\\n        1,\\n        1,\\n        1,\\n        1,\\n        1,\\n        1,\\n        1,\\n        1,\\n        1,\\n        1,\\n        1,\\n        1,\\n        1,\\n        0,\\n        1,\\n        1,\\n        1,\\n        1,\\n        1,\\n        1,\\n        1,\\n        1,\\n        1,\\n        1,\\n        1,\\n        1,\\n        1,\\n        1,\\n        1,\\n        0,\\n        1,\\n        1,\\n        1,\\n        1,\\n        1,\\n        1,\\n        1,\\n        1,\\n        1,\\n        1,\\n        1,\\n        1,\\n        1,\\n        1,\\n        1,\\n        0,\\n        1,\\n        1,\\n        1,\\n        0,\\n        0,\\n        1,\\n        1,\\n        1,\\n        1,\\n        1,\\n        1,\\n        1,\\n        1,\\n        1,\\n        1,\\n        0,\\n        1,\\n        0,\\n        0,\\n        0,\\n        0,\\n        1,\\n        1,\\n        1,\\n        1,\\n        1,\\n        1,\\n        1,\\n        1,\\n        1,\\n        1,\\n        0,\\n        1,\\n        0,\\n        0,\\n        0,\\n        0,\\n        0,\\n        1,\\n        1,\\n        1,\\n        0,\\n        1,\\n        1,\\n        1,\\n        1,\\n        1,\\n        0,\\n        0,\\n        0,\\n        0,\\n        0,\\n        0,\\n        0,\\n        1,\\n        1,\\n        1,\\n        0,\\n        1,\\n        1,\\n        1,\\n        1,\\n        1,\\n        0,\\n        0,\\n        0,\\n        0,\\n        0,\\n        0,\\n        0,\\n        0,\\n        0,\\n        0,\\n        0,\\n        1,\\n        0,\\n        1,\\n        1,\\n        1\\n    ],\\n    \\\"Dimensions\\\": [\\n        12,\\n        14,\\n        16\\n    ],\\n    \\\"FriendlyName\\\": \\\"test entry\\\",\\n    \\\"Tags\\\": [\\n        \\\"tag2\\\",\\n        \\\"tag1\\\",\\n        \\\"tag2\\\",\\n        \\\"tag2\\\"\\n    ]\\n}\")",
                  "text/plain": "<IPython.core.display.Javascript object>"
                },
                "metadata": {},
                "output_type": "display_data"
              }
            ]
          }
        },
        "e9c38bca66e24b259eb257a09586c22b": {
          "model_module": "@jupyter-widgets/base",
          "model_module_version": "1.2.0",
          "model_name": "LayoutModel",
          "state": {
            "_model_module": "@jupyter-widgets/base",
            "_model_module_version": "1.2.0",
            "_model_name": "LayoutModel",
            "_view_count": null,
            "_view_module": "@jupyter-widgets/base",
            "_view_module_version": "1.2.0",
            "_view_name": "LayoutView",
            "align_content": null,
            "align_items": null,
            "align_self": null,
            "border": null,
            "bottom": null,
            "display": null,
            "flex": null,
            "flex_flow": null,
            "grid_area": null,
            "grid_auto_columns": null,
            "grid_auto_flow": null,
            "grid_auto_rows": null,
            "grid_column": null,
            "grid_gap": null,
            "grid_row": null,
            "grid_template_areas": null,
            "grid_template_columns": null,
            "grid_template_rows": null,
            "height": null,
            "justify_content": null,
            "justify_items": null,
            "left": null,
            "margin": null,
            "max_height": null,
            "max_width": null,
            "min_height": null,
            "min_width": null,
            "object_fit": null,
            "object_position": null,
            "order": null,
            "overflow": null,
            "overflow_x": null,
            "overflow_y": null,
            "padding": null,
            "right": null,
            "top": null,
            "visibility": null,
            "width": null
          }
        }
      }
    }
  },
  "nbformat": 4,
  "nbformat_minor": 0
}
